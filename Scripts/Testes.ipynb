{
 "cells": [
  {
   "cell_type": "code",
   "execution_count": 1,
   "id": "0fb49f39-360f-49d0-9e43-977bbfab8a8e",
   "metadata": {},
   "outputs": [
    {
     "name": "stdout",
     "output_type": "stream",
     "text": [
      "Collecting tweepy\n",
      "  Using cached tweepy-4.12.1-py3-none-any.whl (101 kB)\n",
      "Collecting oauthlib<4,>=3.2.0\n",
      "  Using cached oauthlib-3.2.2-py3-none-any.whl (151 kB)\n",
      "Collecting requests-oauthlib<2,>=1.2.0\n",
      "  Using cached requests_oauthlib-1.3.1-py2.py3-none-any.whl (23 kB)\n",
      "Requirement already satisfied: requests<3,>=2.27.0 in c:\\users\\t-gamer\\anaconda3\\lib\\site-packages (from tweepy) (2.27.1)\n",
      "Requirement already satisfied: urllib3<1.27,>=1.21.1 in c:\\users\\t-gamer\\anaconda3\\lib\\site-packages (from requests<3,>=2.27.0->tweepy) (1.26.9)\n",
      "Requirement already satisfied: certifi>=2017.4.17 in c:\\users\\t-gamer\\anaconda3\\lib\\site-packages (from requests<3,>=2.27.0->tweepy) (2021.10.8)\n",
      "Requirement already satisfied: charset-normalizer~=2.0.0 in c:\\users\\t-gamer\\anaconda3\\lib\\site-packages (from requests<3,>=2.27.0->tweepy) (2.0.4)\n",
      "Requirement already satisfied: idna<4,>=2.5 in c:\\users\\t-gamer\\anaconda3\\lib\\site-packages (from requests<3,>=2.27.0->tweepy) (3.3)\n",
      "Installing collected packages: oauthlib, requests-oauthlib, tweepy\n",
      "Successfully installed oauthlib-3.2.2 requests-oauthlib-1.3.1 tweepy-4.12.1\n"
     ]
    }
   ],
   "source": [
    "# esse foi um arquivo de teste\n",
    "!pip install tweepy"
   ]
  },
  {
   "cell_type": "code",
   "execution_count": 2,
   "id": "033d72e8-852d-4480-bcd5-c12a72bb40f1",
   "metadata": {},
   "outputs": [],
   "source": [
    "import tweepy\n",
    "\n",
    "consumer_key = \"sua key aqui\"\n",
    "consumer_secret = \"sua key aqui\"\n",
    "access_token = \"sua key aqui\"\n",
    "access_token_secret = \"sua key aqui\"\n",
    "bearer = \"sua key aqui\"\n",
    "\n",
    "cliente = tweepy.Client(bearer_token=bearer, consumer_key=consumer_key,\\\n",
    "consumer_secret=consumer_secret, access_token=access_token, \\\n",
    "access_token_secret=access_token_secret)"
   ]
  },
  {
   "cell_type": "code",
   "execution_count": 72,
   "id": "5e2fec7f-a978-4091-9386-aec8b169425c",
   "metadata": {},
   "outputs": [],
   "source": [
    "import pandas \n",
    "\n",
    "start = \"2022-11-25T00:00:00Z\"\n",
    "fields = ['id', 'text', 'created_at']\n",
    "res = cliente.search_recent_tweets(query=\"Lula -is:retweet -is:reply -has:links -has:media\", start_time=start, tweet_fields=fields, max_results=10)\n",
    "tweets = res.data"
   ]
  },
  {
   "cell_type": "code",
   "execution_count": 85,
   "id": "aa29af4c-8e48-49f5-8b20-641e87873686",
   "metadata": {
    "collapsed": true,
    "jupyter": {
     "outputs_hidden": true
    },
    "tags": []
   },
   "outputs": [
    {
     "data": {
      "text/plain": [
       "[{'id': 1596937546512359424,\n",
       "  'tweet_text': 'Gilberto Gil não é um dedinho de Millôr...\\n\\nMillôr Fernandes sobre Lula:\\n\"O Lula é divertido, vamos dizer assim. Logo que ele começou, eu disse um negócio e não tenho razão de retirar: \\'A ignorância lhe subiu à cabeça\\'. Ele está pensando que sabe tudo e não sabe nada.\".',\n",
       "  'tweet_date': '2022-11-27 15:42:35'},\n",
       " {'id': 1596937462387204096,\n",
       "  'tweet_text': 'Lula falou que sua prioridade é regular a internet rapidamente nos primeiros dias de governo.',\n",
       "  'tweet_date': '2022-11-27 15:42:15'},\n",
       " {'id': 1596937412122673152,\n",
       "  'tweet_text': 'Dia 01 de Janeiro vamos fazer de tudo para estarmos em Brasília, quem não puder ir faça uma caminhada nas grandes cidades em prol da posse de LULA. Vamos ver se ele vai enfrentar mais de 60.000 milhões de Brasileiros, tem Países atentos, Bolsonaro não sabe quais são.',\n",
       "  'tweet_date': '2022-11-27 15:42:03'},\n",
       " {'id': 1596937367138758656,\n",
       "  'tweet_text': '🇧🇷🚨Lula deve anunciar medidas de regulação da internet nos 100\\nprimeiros dias de governo.',\n",
       "  'tweet_date': '2022-11-27 15:41:52'},\n",
       " {'id': 1596937345110269952,\n",
       "  'tweet_text': 'Prioridade: Lula quer regular Internet rapidamente: “Nos primeiros dias de\\xa0governo”',\n",
       "  'tweet_date': '2022-11-27 15:41:47'},\n",
       " {'id': 1596937065098522624,\n",
       "  'tweet_text': 'Josias de Souza: \\nOmissão de Bolsonaro foi premeditada com propósito de impor desgaste a Lula',\n",
       "  'tweet_date': '2022-11-27 15:40:40'},\n",
       " {'id': 1596937037252550661,\n",
       "  'tweet_text': 'O valor da minha pensão é tão humilhante, lula faça alguma coisa',\n",
       "  'tweet_date': '2022-11-27 15:40:33'},\n",
       " {'id': 1596936840808128513,\n",
       "  'tweet_text': 'Lula teve 60 milhões de votos e eu tenho meia duzia de seguidores, a 27 anos .Estranho cade esse povo, 80% dos brasileiros tem twitter',\n",
       "  'tweet_date': '2022-11-27 15:39:47'},\n",
       " {'id': 1596936764702089221,\n",
       "  'tweet_text': \"É errado comemorar a lesão de Neymar por que ele votou Bolsonaro como também é errado hostilizar Gilberto Gil em um momento particular com a família, por que ele votou em Lula. 'Posso não concordar com o que você diz, mas defenderei até a morte o seu direito de dizê-lo' Voltaire.\",\n",
       "  'tweet_date': '2022-11-27 15:39:29'},\n",
       " {'id': 1596936607906824192,\n",
       "  'tweet_text': 'totalmente desumano ter que ver jogo da copa sem estar de casal deveria ser crime lula vc me prometeu',\n",
       "  'tweet_date': '2022-11-27 15:38:51'}]"
      ]
     },
     "execution_count": 85,
     "metadata": {},
     "output_type": "execute_result"
    }
   ],
   "source": [
    "import pytz\n",
    "import json\n",
    "\n",
    "date_format = '%Y-%m-%d %H:%M:%S'\n",
    "timezone = \"America/Sao_Paulo\"\n",
    "jsonlist = []\n",
    "for t in tweets:\n",
    "    tweet = {\"id\": t.id ,\"tweet_text\": t.text, \"tweet_date\": t.created_at.astimezone(pytz.timezone(timezone)).strftime(date_format)}\n",
    "    jsonlist.append(tweet)\n",
    "\n",
    "type(jsonlist[0]['tweet_date'])\n",
    "jsonfinal = json.dumps(jsonlist, ensure_ascii=False)\n",
    "jsonlist\n",
    "#jsonfinal.decode()"
   ]
  },
  {
   "cell_type": "code",
   "execution_count": 69,
   "id": "ccf42471-ff77-4713-98bc-8edeb63f052e",
   "metadata": {},
   "outputs": [
    {
     "data": {
      "text/plain": [
       "<Tweet id=1596725662240284675 text='\"Bolsonaro é antidemocrático, por isso votei no Lula\". Lula tentou dar um golpe para controlar o legislativo. DEMOCRÁTICO NA ONDE ?'>"
      ]
     },
     "execution_count": 69,
     "metadata": {},
     "output_type": "execute_result"
    }
   ],
   "source": [
    "dados[9]"
   ]
  },
  {
   "cell_type": "code",
   "execution_count": null,
   "id": "ea1919ba-9e4b-49f2-bcc9-94c9a20a3989",
   "metadata": {},
   "outputs": [],
   "source": []
  }
 ],
 "metadata": {
  "kernelspec": {
   "display_name": "Python 3 (ipykernel)",
   "language": "python",
   "name": "python3"
  },
  "language_info": {
   "codemirror_mode": {
    "name": "ipython",
    "version": 3
   },
   "file_extension": ".py",
   "mimetype": "text/x-python",
   "name": "python",
   "nbconvert_exporter": "python",
   "pygments_lexer": "ipython3",
   "version": "3.9.12"
  }
 },
 "nbformat": 4,
 "nbformat_minor": 5
}
