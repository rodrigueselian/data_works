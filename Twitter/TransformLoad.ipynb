{
 "cells": [
  {
   "cell_type": "code",
   "execution_count": 1,
   "id": "375b1314-ff07-43cc-b1f6-6ccc948b3711",
   "metadata": {},
   "outputs": [],
   "source": [
    "# como acessar s3?\n"
   ]
  },
  {
   "cell_type": "code",
   "execution_count": 2,
   "id": "af67ddd7-481a-408e-994e-45e351c4de5b",
   "metadata": {},
   "outputs": [],
   "source": [
    "from pyspark.sql import SparkSession\n",
    "from pyspark.sql.functions import *\n",
    "\n",
    "#Criando Sessão Spark\n",
    "spark = SparkSession.builder \\\n",
    ".appName('XPTO')\\\n",
    ".getOrCreate()\n",
    "\n",
    "# diretorio da pasta onde foram salvos os JSONs extraidos\n",
    "df = spark.read.json('jsonDF/')"
   ]
  },
  {
   "cell_type": "code",
   "execution_count": 3,
   "id": "8221adda-45e3-453c-8735-fcca931e0454",
   "metadata": {},
   "outputs": [],
   "source": [
    "# padronizar tudo em lowercase\n",
    "df = df.withColumn('tweet_text', lower(col('tweet_text')))"
   ]
  },
  {
   "cell_type": "code",
   "execution_count": 4,
   "id": "a7988bd4-1b3a-426c-ae63-01dd835e6b60",
   "metadata": {},
   "outputs": [],
   "source": [
    "# tirando os filhos do bolso e o iguinho do lulinha\n",
    "df = df.filter(locate('iguinho', 'tweet_text') == 0)\n",
    "df = df.filter(locate('eduardo', 'tweet_text') == 0)\n",
    "df = df.filter(locate('carlos','tweet_text') == 0)\n",
    "df = df.filter(locate('flávio', 'tweet_text') == 0)"
   ]
  },
  {
   "cell_type": "code",
   "execution_count": 5,
   "id": "a7299341-ae2d-456f-8ccd-c6a053304ae8",
   "metadata": {},
   "outputs": [],
   "source": [
    "# primeiro definir de quem estão falando\n",
    "df = df.withColumn('lula', when(locate('lula', 'tweet_text') == 0, None).otherwise(locate('lula', 'tweet_text')))\\\n",
    ".withColumn('lulinha', when(locate('lulinha', 'tweet_text') == 0, None).otherwise(locate('lulinha', 'tweet_text')))\\\n",
    ".withColumn('presidiario', when(locate('presidiário', 'tweet_text') == 0, None).otherwise(locate('presidiário', 'tweet_text')))\\\n",
    ".withColumn('bolsonaro', when(locate('bolsonaro', 'tweet_text') == 0, None).otherwise(locate('bolsonaro', 'tweet_text')))\\\n",
    ".withColumn('bozo', when(locate('bozo', 'tweet_text') == 0, None).otherwise(locate('bozo', 'tweet_text')))\\\n",
    ".withColumn('biroliro', when(locate('biroliro', 'tweet_text') == 0, None).otherwise(locate('biroliro', 'tweet_text')))\\\n",
    ".withColumn('menor', least(col('lula'), col('lulinha'), col('presidiario'), col('bolsonaro'), col('bozo'), col('biroliro')))\\\n",
    ".withColumn('PalavraChave', expr(\"\"\"substr(tweet_text,menor,4)\"\"\"))\\\n",
    ".withColumn('Candidato', when(col('PalavraChave') == 'lula', \"lula\")\\\n",
    "            .when(col('PalavraChave') == 'luli', 'lula')\\\n",
    "            .when(col('PalavraChave') == 'pres', 'lula')\\\n",
    "            .when(col('PalavraChave') == 'bols', 'bolsonaro')\\\n",
    "            .when(col('PalavraChave') == 'bozo', 'bolsonaro')\\\n",
    "            .when(col('PalavraChave') == 'biro', 'bolsonaro'))\\\n",
    ".withColumn('Sentimento', when(col('PalavraChave') == 'lula', \"neutro\")\\\n",
    "            .when(col('PalavraChave') == 'luli', 'neutro')\\\n",
    "            .when(col('PalavraChave') == 'pres', 'negativo')\\\n",
    "            .when(col('PalavraChave') == 'bols', 'neutro')\\\n",
    "            .when(col('PalavraChave') == 'bozo', 'negativo')\\\n",
    "            .when(col('PalavraChave') == 'biro', 'negativo')\\\n",
    "           .otherwise('neutro'))\\\n",
    ".drop('lula','bolsonaro','lulinha','presidiario','biroliro','bozo','menor', 'PalavraChave')"
   ]
  },
  {
   "cell_type": "code",
   "execution_count": 10,
   "id": "bcbd3c85-3436-49fd-8cd3-4000fc203bfa",
   "metadata": {},
   "outputs": [
    {
     "name": "stdout",
     "output_type": "stream",
     "text": [
      "+----------+----------+\n",
      "|tweet_text|Sentimento|\n",
      "+----------+----------+\n",
      "+----------+----------+\n",
      "\n"
     ]
    }
   ],
   "source": [
    "df.select('tweet_text', 'Sentimento').filter((locate('iguinho', 'tweet_text') != 0) & (col('Sentimento') == 'neutro')).show(truncate=80)"
   ]
  },
  {
   "cell_type": "code",
   "execution_count": 7,
   "id": "3a2d7ab9-119d-4ffa-abf7-1a531fe101de",
   "metadata": {},
   "outputs": [],
   "source": [
    "# filtrar negativo e positivo\n",
    "df = df.withColumn('Sentimento', when(col('tweet_text').contains(\"melhor\"), 'positivo')\\\n",
    "            .when(col('tweet_text').contains(\"maravilhoso\"), 'positivo')\\\n",
    "            .when(col('tweet_text').contains(\"otimo\"), 'positivo')\\\n",
    "            .when(col('tweet_text').contains(\"ótimo\"), 'positivo')\\\n",
    "            .when(col('tweet_text').contains(\"salvar\"), 'positivo')\\\n",
    "            .when(col('tweet_text').contains(\"orgulho\"), 'positivo')\\\n",
    "            .when(col('tweet_text').contains(\"honra\"), 'positivo')\\\n",
    "            .when(col('tweet_text').contains(\"posse\"), 'positivo')\\\n",
    "            .when(col('tweet_text').contains(\"esperança\"), 'positivo')\\\n",
    "            .when(col('tweet_text').contains(\"confio\"), 'positivo')\\\n",
    "            .when(col('tweet_text').contains(\"acredito\"), 'positivo')\\\n",
    "            .when(col('tweet_text').contains(\"querido\"), 'positivo')\\\n",
    "            .when(col('tweet_text').contains(\"nosso\"), 'positivo')\\\n",
    "            .when(col('tweet_text').contains(\"meu presidente\"), 'positivo')\\\n",
    "            .when(col('tweet_text').contains(\"feliz\"), 'positivo')\\\n",
    "            .when(col('tweet_text').contains(\"contente\"), 'positivo')\\\n",
    "            .when(col('tweet_text').contains(\"comemorar\"), 'positivo')\\\n",
    "            .when(col('tweet_text').contains(\"patriotas\"), 'positivo')\\\n",
    "            .when(col('tweet_text').contains(\"humanitário\"), 'positivo')\\\n",
    "            .when(col('tweet_text').contains(\"humanitario\"), 'positivo')\\\n",
    "            .when(col('tweet_text').contains(\"patriotas\"), 'positivo')\\\n",
    "            .when(col('tweet_text').contains(\"🇧🇷\"), 'positivo')\\\n",
    "              #negativos\n",
    "            .when(col('tweet_text').contains(\"lixo\"), 'negativo')\\\n",
    "            .when(col('tweet_text').contains(\"burro\"), 'negativo')\\\n",
    "            .when(col('tweet_text').contains(\"idiota\"), 'negativo')\\\n",
    "            .when(col('tweet_text').contains(\"bosta\"), 'negativo')\\\n",
    "            .when(col('tweet_text').contains(\"otario\"), 'negativo')\\\n",
    "            .when(col('tweet_text').contains(\"otário\"), 'negativo')\\\n",
    "            .when(col('tweet_text').contains(\"minion\"), 'negativo')\\\n",
    "            .when(col('tweet_text').contains(\"ladrao\"), 'negativo')\\\n",
    "            .when(col('tweet_text').contains(\"ladrão\"), 'negativo')\\\n",
    "            .when(col('tweet_text').contains(\"roub\"), 'negativo')\\\n",
    "            .when(col('tweet_text').contains(\"matou\"), 'negativo')\\\n",
    "            .when(col('tweet_text').contains(\"odeio\"), 'negativo')\\\n",
    "            .when(col('tweet_text').contains(\"merda\"), 'negativo')\\\n",
    "            .when(col('tweet_text').contains(\"nojo\"), 'negativo')\\\n",
    "            .when(col('tweet_text').contains(\"canalha\"), 'negativo')\\\n",
    "            .when(col('tweet_text').contains(\"bandido\"), 'negativo')\\\n",
    "            .when(col('tweet_text').contains(\"porra\"), 'negativo')\\\n",
    "            .when(col('tweet_text').contains(\"bozo\"), 'negativo')\\\n",
    "            .when(col('tweet_text').contains(\"preso\"), 'negativo')\\\n",
    "            .when(col('tweet_text').contains(\"bananinha\"), 'negativo')\\\n",
    "            .when(col('tweet_text').contains(\"gado\"), 'negativo')\\\n",
    "            .when(col('tweet_text').contains(\"analfabeto\"), 'negativo')\\\n",
    "            .when(col('tweet_text').contains(\"corrupto\"), 'negativo')\\\n",
    "            .when(col('tweet_text').contains(\"corrupção\"), 'negativo')\\\n",
    "            .when(col('tweet_text').contains(\"estimação\"), 'negativo')\\\n",
    "            .when(col('tweet_text').contains(\"hipócrita\"), 'negativo')\\\n",
    "            .when(col('tweet_text').contains(\"hipocrita\"), 'negativo')\\\n",
    "            .when(col('tweet_text').contains(\"cachaceiro\"), 'negativo')\\\n",
    "            .when(col('tweet_text').contains(\"sociopata\"), 'negativo')\\\n",
    "            .when(col('tweet_text').contains(\"psicopata\"), 'negativo')\\\n",
    "            .when(col('tweet_text').contains(\"genocida\"), 'negativo')\\\n",
    "            .when(col('tweet_text').contains(\"golpista\"), 'negativo')\\\n",
    "            .when(col('tweet_text').contains(\"nazista\"), 'negativo')\\\n",
    "            .when(col('tweet_text').contains(\"triste\"), 'negativo')\\\n",
    "            .when(col('tweet_text').contains(\"descontente\"), 'negativo')\\\n",
    "            .when(col('tweet_text').contains(\"infeliz\"), 'negativo')\\\n",
    "            .when(col('tweet_text').contains(\"desumano\"), 'negativo')\\\n",
    "            .when(col('tweet_text').contains(\"desgoverno\"), 'negativo')\\\n",
    "            .when(col('tweet_text').contains(\"presidiário\"), 'negativo').otherwise('neutro'))\n"
   ]
  },
  {
   "cell_type": "code",
   "execution_count": 8,
   "id": "fa245843-a91f-4a25-a86e-6ad7c0b55514",
   "metadata": {},
   "outputs": [
    {
     "name": "stdout",
     "output_type": "stream",
     "text": [
      "+----------+-----+\n",
      "|Sentimento|count|\n",
      "+----------+-----+\n",
      "|    neutro|  622|\n",
      "|  negativo|  184|\n",
      "|  positivo|  125|\n",
      "+----------+-----+\n",
      "\n"
     ]
    }
   ],
   "source": [
    "#anilisar\n",
    "#df.select('tweet_text','Candidato','Sentimento').show(50, truncate=80)\n",
    "df.groupBy(\"Sentimento\").count().show()"
   ]
  },
  {
   "cell_type": "code",
   "execution_count": 19,
   "id": "c00136e3-0250-4252-8015-b118c5106268",
   "metadata": {},
   "outputs": [
    {
     "name": "stdout",
     "output_type": "stream",
     "text": [
      "+-------------------+-------------------+--------------------+---------+----------+----+-----+---+\n",
      "|                 id|         tweet_date|          tweet_text|Candidato|Sentimento|year|month|day|\n",
      "+-------------------+-------------------+--------------------+---------+----------+----+-----+---+\n",
      "|1597789029847764992|2022-11-30 00:06:04|lista dos que dev...|bolsonaro|  negativo|2022|   11| 30|\n",
      "|1597789116581969920|2022-11-30 00:06:25|sacanagem isso!\\n...|bolsonaro|  positivo|2022|   11| 30|\n",
      "|1597789196932247554|2022-11-30 00:06:44|a pergunta é ? “ ...|     lula|  negativo|2022|   11| 30|\n",
      "|1597789231383912448|2022-11-30 00:06:52|lula será o prime...|     lula|    neutro|2022|   11| 30|\n",
      "|1597789239634448384|2022-11-30 00:06:54|dr beijamim arrol...|     lula|    neutro|2022|   11| 30|\n",
      "|1597789311126372352|2022-11-30 00:07:11|o povo está pedin...|     lula|    neutro|2022|   11| 30|\n",
      "|1597789448603074560|2022-11-30 00:07:44|bolsonaro vai ped...|bolsonaro|    neutro|2022|   11| 30|\n",
      "|1597789536834048002|2022-11-30 00:08:05|queria que bolson...|bolsonaro|    neutro|2022|   11| 30|\n",
      "|1597789633043013633|2022-11-30 00:08:28|silas malafaia. c...|bolsonaro|    neutro|2022|   11| 30|\n",
      "|1597789645806440450|2022-11-30 00:08:31|sabe aquilo do “e...|bolsonaro|    neutro|2022|   11| 30|\n",
      "|1597789664676843520|2022-11-30 00:08:36|guys, acabei de s...|     lula|  negativo|2022|   11| 30|\n",
      "|1597789804237914113|2022-11-30 00:09:09|chegou em meu zap...|     lula|    neutro|2022|   11| 30|\n",
      "|1597789806637248512|2022-11-30 00:09:10|south park e pala...|bolsonaro|    neutro|2022|   11| 30|\n",
      "|1597789818444214272|2022-11-30 00:09:12|o filho do bolson...|bolsonaro|  negativo|2022|   11| 30|\n",
      "|1597789894012973056|2022-11-30 00:09:30|silas malafaia. c...|bolsonaro|    neutro|2022|   11| 30|\n",
      "|1597789923154997248|2022-11-30 00:09:37|as pessoas pesam ...|bolsonaro|  negativo|2022|   11| 30|\n",
      "|1597789951541751808|2022-11-30 00:09:44|triste fim.... co...|bolsonaro|  positivo|2022|   11| 30|\n",
      "|1597789965668487169|2022-11-30 00:09:47|critiquei o lula ...|     lula|    neutro|2022|   11| 30|\n",
      "|1597790022450655232|2022-11-30 00:10:01|estava lendo o do...|     lula|  positivo|2022|   11| 30|\n",
      "|1597790027039535104|2022-11-30 00:10:02|atenção, povo de ...|     lula|  negativo|2022|   11| 30|\n",
      "+-------------------+-------------------+--------------------+---------+----------+----+-----+---+\n",
      "only showing top 20 rows\n",
      "\n"
     ]
    }
   ],
   "source": [
    "from pyspark.sql.types import TimestampType\n",
    "\n",
    "df = df.withColumn('tweet_date', col('tweet_date').cast('timestamp'))\n",
    "df = df.withColumn(\"year\", date_format(col(\"tweet_date\"), \"yyyy\"))\\\n",
    "        .withColumn(\"month\", date_format(col(\"tweet_date\"), \"MM\"))\\\n",
    "        .withColumn(\"day\", date_format(col(\"tweet_date\"), \"dd\"))\n",
    "df.show()"
   ]
  },
  {
   "cell_type": "code",
   "execution_count": null,
   "id": "fb6bccff-49e4-4fc9-9b26-d2cd765c2c47",
   "metadata": {},
   "outputs": [],
   "source": []
  }
 ],
 "metadata": {
  "kernelspec": {
   "display_name": "Python 3 (ipykernel)",
   "language": "python",
   "name": "python3"
  },
  "language_info": {
   "codemirror_mode": {
    "name": "ipython",
    "version": 3
   },
   "file_extension": ".py",
   "mimetype": "text/x-python",
   "name": "python",
   "nbconvert_exporter": "python",
   "pygments_lexer": "ipython3",
   "version": "3.9.12"
  }
 },
 "nbformat": 4,
 "nbformat_minor": 5
}
